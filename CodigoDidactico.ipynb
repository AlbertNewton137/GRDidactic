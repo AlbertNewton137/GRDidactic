{
 "cells": [
  {
   "cell_type": "code",
   "execution_count": 1,
   "id": "7279d1d3-04e9-4548-bfb9-0c7356443560",
   "metadata": {
    "id": "7279d1d3-04e9-4548-bfb9-0c7356443560"
   },
   "outputs": [],
   "source": [
    "import sympy as smp\n",
    "import time\n",
    "\n",
    "def Christoffel(i,j,k):\n",
    "    s = 0\n",
    "    for a in range(n):\n",
    "        s+=1/2*g_inv[a,i]*(smp.diff(g[a,j],coord[k])+smp.diff(g[a,k],coord[j])-smp.diff(g[j,k],coord[a]))\n",
    "    return smp.simplify(s)\n",
    "\n",
    "def Riemann(i,j,k,l):\n",
    "    p=smp.diff(ch[i,j,l],coord[k])-(smp.diff(ch[i,j,k],coord[l]))\n",
    "    s=0\n",
    "    for o in range(n):\n",
    "        s+=ch[i,o,k]*ch[o,j,l]-(ch[i,o,l]*ch[o,j,k])\n",
    "    return smp.simplify(p+s)\n",
    "\n",
    "def Ricci(i,j):\n",
    "    s=0\n",
    "    for o in range(n):\n",
    "        s+=riem[o,i,o,j]\n",
    "    return smp.simplify(s)\n",
    "\n",
    "def Einstein(i,j):\n",
    "    s=-1/2*g[i,j]*er+ricci[i,j]\n",
    "    return smp.simplify(s)"
   ]
  },
  {
   "cell_type": "code",
   "execution_count": 2,
   "id": "2802f816-96da-4ffe-a2f8-8dbfba73bca5",
   "metadata": {
    "colab": {
     "base_uri": "https://localhost:8080/",
     "height": 190
    },
    "executionInfo": {
     "elapsed": 808,
     "status": "ok",
     "timestamp": 1726681885623,
     "user": {
      "displayName": "Albert Newton",
      "userId": "03012217579256200743"
     },
     "user_tz": 360
    },
    "id": "2802f816-96da-4ffe-a2f8-8dbfba73bca5",
    "outputId": "a57ac9d1-e43b-4542-f2db-dd22d56a55a7",
    "scrolled": true
   },
   "outputs": [
    {
     "data": {
      "text/latex": [
       "$\\displaystyle g_{\\alpha \\beta} = \\left[\\begin{matrix}c^{2} \\left(-1 + \\frac{r_{s}}{r}\\right) & 0 & 0 & 0\\\\0 & \\frac{1}{1 - \\frac{r_{s}}{r}} & 0 & 0\\\\0 & 0 & r^{2} & 0\\\\0 & 0 & 0 & r^{2} \\sin^{2}{\\left(\\theta \\right)}\\end{matrix}\\right]$"
      ],
      "text/plain": [
       "Eq(g_alpha_beta, Matrix([\n",
       "[c**2*(-1 + r_s/r),             0,    0,                  0],\n",
       "[                0, 1/(1 - r_s/r),    0,                  0],\n",
       "[                0,             0, r**2,                  0],\n",
       "[                0,             0,    0, r**2*sin(theta)**2]]))"
      ]
     },
     "metadata": {},
     "output_type": "display_data"
    },
    {
     "data": {
      "text/latex": [
       "$\\displaystyle g^{\\alpha \\beta} = \\left[\\begin{matrix}- \\frac{r}{c^{2} \\left(r - r_{s}\\right)} & 0 & 0 & 0\\\\0 & \\frac{r - r_{s}}{r} & 0 & 0\\\\0 & 0 & \\frac{1}{r^{2}} & 0\\\\0 & 0 & 0 & \\frac{1}{r^{2} \\sin^{2}{\\left(\\theta \\right)}}\\end{matrix}\\right]$"
      ],
      "text/plain": [
       "Eq(g^alpha^beta, Matrix([\n",
       "[-r/(c**2*(r - r_s)),           0,       0,                      0],\n",
       "[                  0, (r - r_s)/r,       0,                      0],\n",
       "[                  0,           0, r**(-2),                      0],\n",
       "[                  0,           0,       0, 1/(r**2*sin(theta)**2)]]))"
      ]
     },
     "metadata": {},
     "output_type": "display_data"
    }
   ],
   "source": [
    "#MÉTRICA DE SCHWARZSCHILD COMO EJEMPLO\n",
    "coord = smp.symbols('t r theta phi')\n",
    "rs, C = smp.symbols('r_s, c')\n",
    "\n",
    "n = len(coord)\n",
    "\n",
    "g= smp.Matrix([[0 for i in range(n)] for i in range(n)])\n",
    "ch=  smp.MutableDenseNDimArray([[[0 for i in range(n)] for i in range(n)] for i in range(n)])\n",
    "riem = smp.MutableDenseNDimArray([[[[0 for i in range(n)] for i in range(n)] for i in range(n)]for i in range(n)])\n",
    "ricci = smp.Matrix([[0 for i in range(n)] for i in range(n)])\n",
    "einstein = smp.Matrix([[0 for i in range(n)] for i in range(n)])\n",
    "\n",
    "g[0,0]=-(1-rs/coord[1])*C**2\n",
    "g[1,1]=1/(1-rs/coord[1])\n",
    "g[2,2]=coord[1]**2\n",
    "g[3,3]=coord[1]**2*smp.sin(coord[2])**2\n",
    "\n",
    "g_inv = smp.simplify(g.inv())\n",
    "\n",
    "\n",
    "gcovariante = smp.symbols(fr'g_alpha_beta')\n",
    "gcontravariante = smp.symbols(fr'g^alpha^beta')\n",
    "\n",
    "display(smp.Eq(gcovariante,g,evaluate=False))\n",
    "display(smp.Eq(gcontravariante,g_inv,evaluate=False))"
   ]
  },
  {
   "cell_type": "code",
   "execution_count": 3,
   "id": "e6353608-543c-43a7-ac5d-aba67e8afc82",
   "metadata": {
    "colab": {
     "base_uri": "https://localhost:8080/",
     "height": 493
    },
    "executionInfo": {
     "elapsed": 24,
     "status": "ok",
     "timestamp": 1726681885626,
     "user": {
      "displayName": "Albert Newton",
      "userId": "03012217579256200743"
     },
     "user_tz": 360
    },
    "id": "e6353608-543c-43a7-ac5d-aba67e8afc82",
    "outputId": "f80616f3-f045-4508-fbba-adb9cd340df8"
   },
   "outputs": [
    {
     "data": {
      "text/latex": [
       "$\\displaystyle \\Gamma^{t}_{t r} = \\frac{0.5 r_{s}}{r \\left(r - r_{s}\\right)}$"
      ],
      "text/plain": [
       "Eq(\\Gamma_t_r^t, 0.5*r_s/(r*(r - r_s)))"
      ]
     },
     "metadata": {},
     "output_type": "display_data"
    },
    {
     "data": {
      "text/latex": [
       "$\\displaystyle \\Gamma^{t}_{r t} = \\frac{0.5 r_{s}}{r \\left(r - r_{s}\\right)}$"
      ],
      "text/plain": [
       "Eq(\\Gamma_r_t^t, 0.5*r_s/(r*(r - r_s)))"
      ]
     },
     "metadata": {},
     "output_type": "display_data"
    },
    {
     "data": {
      "text/latex": [
       "$\\displaystyle \\Gamma^{r}_{t t} = \\frac{0.5 c^{2} r_{s} \\left(r - r_{s}\\right)}{r^{3}}$"
      ],
      "text/plain": [
       "Eq(\\Gamma_t_t^r, 0.5*c**2*r_s*(r - r_s)/r**3)"
      ]
     },
     "metadata": {},
     "output_type": "display_data"
    },
    {
     "data": {
      "text/latex": [
       "$\\displaystyle \\Gamma^{r}_{r r} = - \\frac{0.5 r_{s}}{r \\left(r - r_{s}\\right)}$"
      ],
      "text/plain": [
       "Eq(\\Gamma_r_r^r, -0.5*r_s/(r*(r - r_s)))"
      ]
     },
     "metadata": {},
     "output_type": "display_data"
    },
    {
     "data": {
      "text/latex": [
       "$\\displaystyle \\Gamma^{r}_{\\theta \\theta} = - 1.0 r + 1.0 r_{s}$"
      ],
      "text/plain": [
       "Eq(\\Gamma_theta_theta^r, -1.0*r + 1.0*r_s)"
      ]
     },
     "metadata": {},
     "output_type": "display_data"
    },
    {
     "data": {
      "text/latex": [
       "$\\displaystyle \\Gamma^{r}_{\\phi \\phi} = 1.0 \\left(- r + r_{s}\\right) \\sin^{2}{\\left(\\theta \\right)}$"
      ],
      "text/plain": [
       "Eq(\\Gamma_phi_phi^r, 1.0*(-r + r_s)*sin(theta)**2)"
      ]
     },
     "metadata": {},
     "output_type": "display_data"
    },
    {
     "data": {
      "text/latex": [
       "$\\displaystyle \\Gamma^{\\theta}_{r \\theta} = \\frac{1.0}{r}$"
      ],
      "text/plain": [
       "Eq(\\Gamma_r_theta^theta, 1.0/r)"
      ]
     },
     "metadata": {},
     "output_type": "display_data"
    },
    {
     "data": {
      "text/latex": [
       "$\\displaystyle \\Gamma^{\\theta}_{\\theta r} = \\frac{1.0}{r}$"
      ],
      "text/plain": [
       "Eq(\\Gamma_theta_r^theta, 1.0/r)"
      ]
     },
     "metadata": {},
     "output_type": "display_data"
    },
    {
     "data": {
      "text/latex": [
       "$\\displaystyle \\Gamma^{\\theta}_{\\phi \\phi} = - 0.5 \\sin{\\left(2 \\theta \\right)}$"
      ],
      "text/plain": [
       "Eq(\\Gamma_phi_phi^theta, -0.5*sin(2*theta))"
      ]
     },
     "metadata": {},
     "output_type": "display_data"
    },
    {
     "data": {
      "text/latex": [
       "$\\displaystyle \\Gamma^{\\phi}_{r \\phi} = \\frac{1.0}{r}$"
      ],
      "text/plain": [
       "Eq(\\Gamma_r_phi^phi, 1.0/r)"
      ]
     },
     "metadata": {},
     "output_type": "display_data"
    },
    {
     "data": {
      "text/latex": [
       "$\\displaystyle \\Gamma^{\\phi}_{\\theta \\phi} = \\frac{1.0}{\\tan{\\left(\\theta \\right)}}$"
      ],
      "text/plain": [
       "Eq(\\Gamma_theta_phi^phi, 1.0/tan(theta))"
      ]
     },
     "metadata": {},
     "output_type": "display_data"
    },
    {
     "data": {
      "text/latex": [
       "$\\displaystyle \\Gamma^{\\phi}_{\\phi r} = \\frac{1.0}{r}$"
      ],
      "text/plain": [
       "Eq(\\Gamma_phi_r^phi, 1.0/r)"
      ]
     },
     "metadata": {},
     "output_type": "display_data"
    },
    {
     "data": {
      "text/latex": [
       "$\\displaystyle \\Gamma^{\\phi}_{\\phi \\theta} = \\frac{1.0}{\\tan{\\left(\\theta \\right)}}$"
      ],
      "text/plain": [
       "Eq(\\Gamma_phi_theta^phi, 1.0/tan(theta))"
      ]
     },
     "metadata": {},
     "output_type": "display_data"
    },
    {
     "name": "stdout",
     "output_type": "stream",
     "text": [
      "CPU times: total: 156 ms\n",
      "Wall time: 430 ms\n"
     ]
    }
   ],
   "source": [
    "%%time\n",
    "#Simbolos de Cristoffel\n",
    "for a in range(n):\n",
    "    for b in range(n):\n",
    "        for c in range(n):\n",
    "            ch[a,b,c]=Christoffel(a, b, c)\n",
    "            if ch[a, b, c] != 0:\n",
    "                gamma = smp.Symbol(fr'\\Gamma_{coord[b]}_{coord[c]}^{coord[a]}')\n",
    "                display(smp.Eq(gamma,ch[a, b, c],evaluate=False))"
   ]
  },
  {
   "cell_type": "code",
   "execution_count": 4,
   "id": "3bbaa975-5720-4d01-934d-ffdb3a7273d8",
   "metadata": {
    "colab": {
     "base_uri": "https://localhost:8080/",
     "height": 933
    },
    "executionInfo": {
     "elapsed": 4718,
     "status": "ok",
     "timestamp": 1726681890328,
     "user": {
      "displayName": "Albert Newton",
      "userId": "03012217579256200743"
     },
     "user_tz": 360
    },
    "id": "3bbaa975-5720-4d01-934d-ffdb3a7273d8",
    "outputId": "7f6d981e-5c7f-4b1e-dfe8-5876a58a21e4"
   },
   "outputs": [
    {
     "data": {
      "text/latex": [
       "$\\displaystyle R^{t}_{r t r} = \\frac{1.0 r_{s}}{r^{2} \\left(r - r_{s}\\right)}$"
      ],
      "text/plain": [
       "Eq(R_r_t_r^t, 1.0*r_s/(r**2*(r - r_s)))"
      ]
     },
     "metadata": {},
     "output_type": "display_data"
    },
    {
     "data": {
      "text/latex": [
       "$\\displaystyle R^{t}_{r r t} = - \\frac{1.0 r_{s}}{r^{2} \\left(r - r_{s}\\right)}$"
      ],
      "text/plain": [
       "Eq(R_r_r_t^t, -1.0*r_s/(r**2*(r - r_s)))"
      ]
     },
     "metadata": {},
     "output_type": "display_data"
    },
    {
     "data": {
      "text/latex": [
       "$\\displaystyle R^{t}_{\\theta t \\theta} = - \\frac{0.5 r_{s}}{r}$"
      ],
      "text/plain": [
       "Eq(R_theta_t_theta^t, -0.5*r_s/r)"
      ]
     },
     "metadata": {},
     "output_type": "display_data"
    },
    {
     "data": {
      "text/latex": [
       "$\\displaystyle R^{t}_{\\theta \\theta t} = \\frac{0.5 r_{s}}{r}$"
      ],
      "text/plain": [
       "Eq(R_theta_theta_t^t, 0.5*r_s/r)"
      ]
     },
     "metadata": {},
     "output_type": "display_data"
    },
    {
     "data": {
      "text/latex": [
       "$\\displaystyle R^{t}_{\\phi t \\phi} = - \\frac{0.5 r_{s} \\sin^{2}{\\left(\\theta \\right)}}{r}$"
      ],
      "text/plain": [
       "Eq(R_phi_t_phi^t, -0.5*r_s*sin(theta)**2/r)"
      ]
     },
     "metadata": {},
     "output_type": "display_data"
    },
    {
     "data": {
      "text/latex": [
       "$\\displaystyle R^{t}_{\\phi \\phi t} = \\frac{0.5 r_{s} \\sin^{2}{\\left(\\theta \\right)}}{r}$"
      ],
      "text/plain": [
       "Eq(R_phi_phi_t^t, 0.5*r_s*sin(theta)**2/r)"
      ]
     },
     "metadata": {},
     "output_type": "display_data"
    },
    {
     "data": {
      "text/latex": [
       "$\\displaystyle R^{r}_{t t r} = \\frac{1.0 c^{2} r_{s} \\left(r - r_{s}\\right)}{r^{4}}$"
      ],
      "text/plain": [
       "Eq(R_t_t_r^r, 1.0*c**2*r_s*(r - r_s)/r**4)"
      ]
     },
     "metadata": {},
     "output_type": "display_data"
    },
    {
     "data": {
      "text/latex": [
       "$\\displaystyle R^{r}_{t r t} = \\frac{1.0 c^{2} r_{s} \\left(- r + r_{s}\\right)}{r^{4}}$"
      ],
      "text/plain": [
       "Eq(R_t_r_t^r, 1.0*c**2*r_s*(-r + r_s)/r**4)"
      ]
     },
     "metadata": {},
     "output_type": "display_data"
    },
    {
     "data": {
      "text/latex": [
       "$\\displaystyle R^{r}_{\\theta r \\theta} = - \\frac{0.5 r_{s}}{r}$"
      ],
      "text/plain": [
       "Eq(R_theta_r_theta^r, -0.5*r_s/r)"
      ]
     },
     "metadata": {},
     "output_type": "display_data"
    },
    {
     "data": {
      "text/latex": [
       "$\\displaystyle R^{r}_{\\theta \\theta r} = \\frac{0.5 r_{s}}{r}$"
      ],
      "text/plain": [
       "Eq(R_theta_theta_r^r, 0.5*r_s/r)"
      ]
     },
     "metadata": {},
     "output_type": "display_data"
    },
    {
     "data": {
      "text/latex": [
       "$\\displaystyle R^{r}_{\\phi r \\phi} = - \\frac{0.5 r_{s} \\sin^{2}{\\left(\\theta \\right)}}{r}$"
      ],
      "text/plain": [
       "Eq(R_phi_r_phi^r, -0.5*r_s*sin(theta)**2/r)"
      ]
     },
     "metadata": {},
     "output_type": "display_data"
    },
    {
     "data": {
      "text/latex": [
       "$\\displaystyle R^{r}_{\\phi \\phi r} = \\frac{0.5 r_{s} \\sin^{2}{\\left(\\theta \\right)}}{r}$"
      ],
      "text/plain": [
       "Eq(R_phi_phi_r^r, 0.5*r_s*sin(theta)**2/r)"
      ]
     },
     "metadata": {},
     "output_type": "display_data"
    },
    {
     "data": {
      "text/latex": [
       "$\\displaystyle R^{\\theta}_{t t \\theta} = \\frac{0.5 c^{2} r_{s} \\left(- r + r_{s}\\right)}{r^{4}}$"
      ],
      "text/plain": [
       "Eq(R_t_t_theta^theta, 0.5*c**2*r_s*(-r + r_s)/r**4)"
      ]
     },
     "metadata": {},
     "output_type": "display_data"
    },
    {
     "data": {
      "text/latex": [
       "$\\displaystyle R^{\\theta}_{t \\theta t} = \\frac{0.5 c^{2} r_{s} \\left(r - r_{s}\\right)}{r^{4}}$"
      ],
      "text/plain": [
       "Eq(R_t_theta_t^theta, 0.5*c**2*r_s*(r - r_s)/r**4)"
      ]
     },
     "metadata": {},
     "output_type": "display_data"
    },
    {
     "data": {
      "text/latex": [
       "$\\displaystyle R^{\\theta}_{r r \\theta} = \\frac{0.5 r_{s}}{r^{2} \\left(r - r_{s}\\right)}$"
      ],
      "text/plain": [
       "Eq(R_r_r_theta^theta, 0.5*r_s/(r**2*(r - r_s)))"
      ]
     },
     "metadata": {},
     "output_type": "display_data"
    },
    {
     "data": {
      "text/latex": [
       "$\\displaystyle R^{\\theta}_{r \\theta r} = - \\frac{0.5 r_{s}}{r^{2} \\left(r - r_{s}\\right)}$"
      ],
      "text/plain": [
       "Eq(R_r_theta_r^theta, -0.5*r_s/(r**2*(r - r_s)))"
      ]
     },
     "metadata": {},
     "output_type": "display_data"
    },
    {
     "data": {
      "text/latex": [
       "$\\displaystyle R^{\\theta}_{\\phi \\theta \\phi} = \\frac{1.0 r_{s} \\sin^{2}{\\left(\\theta \\right)}}{r}$"
      ],
      "text/plain": [
       "Eq(R_phi_theta_phi^theta, 1.0*r_s*sin(theta)**2/r)"
      ]
     },
     "metadata": {},
     "output_type": "display_data"
    },
    {
     "data": {
      "text/latex": [
       "$\\displaystyle R^{\\theta}_{\\phi \\phi \\theta} = - \\frac{1.0 r_{s} \\sin^{2}{\\left(\\theta \\right)}}{r}$"
      ],
      "text/plain": [
       "Eq(R_phi_phi_theta^theta, -1.0*r_s*sin(theta)**2/r)"
      ]
     },
     "metadata": {},
     "output_type": "display_data"
    },
    {
     "data": {
      "text/latex": [
       "$\\displaystyle R^{\\phi}_{t t \\phi} = \\frac{0.5 c^{2} r_{s} \\left(- r + r_{s}\\right)}{r^{4}}$"
      ],
      "text/plain": [
       "Eq(R_t_t_phi^phi, 0.5*c**2*r_s*(-r + r_s)/r**4)"
      ]
     },
     "metadata": {},
     "output_type": "display_data"
    },
    {
     "data": {
      "text/latex": [
       "$\\displaystyle R^{\\phi}_{t \\phi t} = \\frac{0.5 c^{2} r_{s} \\left(r - r_{s}\\right)}{r^{4}}$"
      ],
      "text/plain": [
       "Eq(R_t_phi_t^phi, 0.5*c**2*r_s*(r - r_s)/r**4)"
      ]
     },
     "metadata": {},
     "output_type": "display_data"
    },
    {
     "data": {
      "text/latex": [
       "$\\displaystyle R^{\\phi}_{r r \\phi} = \\frac{0.5 r_{s}}{r^{2} \\left(r - r_{s}\\right)}$"
      ],
      "text/plain": [
       "Eq(R_r_r_phi^phi, 0.5*r_s/(r**2*(r - r_s)))"
      ]
     },
     "metadata": {},
     "output_type": "display_data"
    },
    {
     "data": {
      "text/latex": [
       "$\\displaystyle R^{\\phi}_{r \\phi r} = - \\frac{0.5 r_{s}}{r^{2} \\left(r - r_{s}\\right)}$"
      ],
      "text/plain": [
       "Eq(R_r_phi_r^phi, -0.5*r_s/(r**2*(r - r_s)))"
      ]
     },
     "metadata": {},
     "output_type": "display_data"
    },
    {
     "data": {
      "text/latex": [
       "$\\displaystyle R^{\\phi}_{\\theta \\theta \\phi} = - \\frac{1.0 r_{s}}{r}$"
      ],
      "text/plain": [
       "Eq(R_theta_theta_phi^phi, -1.0*r_s/r)"
      ]
     },
     "metadata": {},
     "output_type": "display_data"
    },
    {
     "data": {
      "text/latex": [
       "$\\displaystyle R^{\\phi}_{\\theta \\phi \\theta} = \\frac{1.0 r_{s}}{r}$"
      ],
      "text/plain": [
       "Eq(R_theta_phi_theta^phi, 1.0*r_s/r)"
      ]
     },
     "metadata": {},
     "output_type": "display_data"
    },
    {
     "name": "stdout",
     "output_type": "stream",
     "text": [
      "CPU times: total: 1.19 s\n",
      "Wall time: 2 s\n"
     ]
    }
   ],
   "source": [
    "%%time\n",
    "#Tensor de Riemann\n",
    "for a in range(n):\n",
    "    for b in range(n):\n",
    "        for c in range(n):\n",
    "            for d in range(n):\n",
    "                riem[a,b,c,d]=Riemann(a, b, c,d)\n",
    "                if riem[a, b, c, d] != 0:\n",
    "                    R = smp.Symbol(fr'R_{coord[b]}_{coord[c]}_{coord[d]}^{coord[a]}')\n",
    "                    display(smp.Eq(R,riem[a, b, c,d],evaluate=False))"
   ]
  },
  {
   "cell_type": "code",
   "execution_count": 5,
   "id": "abd9c553-5040-407c-a20f-bfbd6ef3e50f",
   "metadata": {
    "colab": {
     "base_uri": "https://localhost:8080/",
     "height": 965
    },
    "executionInfo": {
     "elapsed": 3467,
     "status": "ok",
     "timestamp": 1726681893770,
     "user": {
      "displayName": "Albert Newton",
      "userId": "03012217579256200743"
     },
     "user_tz": 360
    },
    "id": "abd9c553-5040-407c-a20f-bfbd6ef3e50f",
    "outputId": "20668c3c-b893-42ef-ced1-1ba431e6f4c1"
   },
   "outputs": [
    {
     "data": {
      "text/latex": [
       "$\\displaystyle R^{t r t r} = - \\frac{1.0 r_{s}}{c^{2} r^{3}}$"
      ],
      "text/plain": [
       "Eq(R^t^r^t^r, -1.0*r_s/(c**2*r**3))"
      ]
     },
     "metadata": {},
     "output_type": "display_data"
    },
    {
     "data": {
      "text/latex": [
       "$\\displaystyle R^{t r r t} = \\frac{1.0 r_{s}}{c^{2} r^{3}}$"
      ],
      "text/plain": [
       "Eq(R^t^r^r^t, 1.0*r_s/(c**2*r**3))"
      ]
     },
     "metadata": {},
     "output_type": "display_data"
    },
    {
     "data": {
      "text/latex": [
       "$\\displaystyle R^{t \\theta t \\theta} = \\frac{0.5 r_{s}}{c^{2} r^{4} \\left(r - r_{s}\\right)}$"
      ],
      "text/plain": [
       "Eq(R^t^theta^t^theta, 0.5*r_s/(c**2*r**4*(r - r_s)))"
      ]
     },
     "metadata": {},
     "output_type": "display_data"
    },
    {
     "data": {
      "text/latex": [
       "$\\displaystyle R^{t \\theta \\theta t} = - \\frac{0.5 r_{s}}{c^{2} r^{4} \\left(r - r_{s}\\right)}$"
      ],
      "text/plain": [
       "Eq(R^t^theta^theta^t, -0.5*r_s/(c**2*r**4*(r - r_s)))"
      ]
     },
     "metadata": {},
     "output_type": "display_data"
    },
    {
     "data": {
      "text/latex": [
       "$\\displaystyle R^{t \\phi t \\phi} = \\frac{0.5 r_{s}}{c^{2} r^{4} \\left(r - r_{s}\\right) \\sin^{2}{\\left(\\theta \\right)}}$"
      ],
      "text/plain": [
       "Eq(R^t^phi^t^phi, 0.5*r_s/(c**2*r**4*(r - r_s)*sin(theta)**2))"
      ]
     },
     "metadata": {},
     "output_type": "display_data"
    },
    {
     "data": {
      "text/latex": [
       "$\\displaystyle R^{t \\phi \\phi t} = - \\frac{0.5 r_{s}}{c^{2} r^{4} \\left(r - r_{s}\\right) \\sin^{2}{\\left(\\theta \\right)}}$"
      ],
      "text/plain": [
       "Eq(R^t^phi^phi^t, -0.5*r_s/(c**2*r**4*(r - r_s)*sin(theta)**2))"
      ]
     },
     "metadata": {},
     "output_type": "display_data"
    },
    {
     "data": {
      "text/latex": [
       "$\\displaystyle R^{r t t r} = \\frac{1.0 r_{s}}{c^{2} r^{3}}$"
      ],
      "text/plain": [
       "Eq(R^r^t^t^r, 1.0*r_s/(c**2*r**3))"
      ]
     },
     "metadata": {},
     "output_type": "display_data"
    },
    {
     "data": {
      "text/latex": [
       "$\\displaystyle R^{r t r t} = - \\frac{1.0 r_{s}}{c^{2} r^{3}}$"
      ],
      "text/plain": [
       "Eq(R^r^t^r^t, -1.0*r_s/(c**2*r**3))"
      ]
     },
     "metadata": {},
     "output_type": "display_data"
    },
    {
     "data": {
      "text/latex": [
       "$\\displaystyle R^{r \\theta r \\theta} = \\frac{0.5 r_{s} \\left(- r + r_{s}\\right)}{r^{6}}$"
      ],
      "text/plain": [
       "Eq(R^r^theta^r^theta, 0.5*r_s*(-r + r_s)/r**6)"
      ]
     },
     "metadata": {},
     "output_type": "display_data"
    },
    {
     "data": {
      "text/latex": [
       "$\\displaystyle R^{r \\theta \\theta r} = \\frac{0.5 r_{s} \\left(r - r_{s}\\right)}{r^{6}}$"
      ],
      "text/plain": [
       "Eq(R^r^theta^theta^r, 0.5*r_s*(r - r_s)/r**6)"
      ]
     },
     "metadata": {},
     "output_type": "display_data"
    },
    {
     "data": {
      "text/latex": [
       "$\\displaystyle R^{r \\phi r \\phi} = \\frac{0.5 r_{s} \\left(- r + r_{s}\\right)}{r^{6} \\sin^{2}{\\left(\\theta \\right)}}$"
      ],
      "text/plain": [
       "Eq(R^r^phi^r^phi, 0.5*r_s*(-r + r_s)/(r**6*sin(theta)**2))"
      ]
     },
     "metadata": {},
     "output_type": "display_data"
    },
    {
     "data": {
      "text/latex": [
       "$\\displaystyle R^{r \\phi \\phi r} = \\frac{0.5 r_{s} \\left(r - r_{s}\\right)}{r^{6} \\sin^{2}{\\left(\\theta \\right)}}$"
      ],
      "text/plain": [
       "Eq(R^r^phi^phi^r, 0.5*r_s*(r - r_s)/(r**6*sin(theta)**2))"
      ]
     },
     "metadata": {},
     "output_type": "display_data"
    },
    {
     "data": {
      "text/latex": [
       "$\\displaystyle R^{\\theta t t \\theta} = - \\frac{0.5 r_{s}}{c^{2} r^{4} \\left(r - r_{s}\\right)}$"
      ],
      "text/plain": [
       "Eq(R^theta^t^t^theta, -0.5*r_s/(c**2*r**4*(r - r_s)))"
      ]
     },
     "metadata": {},
     "output_type": "display_data"
    },
    {
     "data": {
      "text/latex": [
       "$\\displaystyle R^{\\theta t \\theta t} = \\frac{0.5 r_{s}}{c^{2} r^{4} \\left(r - r_{s}\\right)}$"
      ],
      "text/plain": [
       "Eq(R^theta^t^theta^t, 0.5*r_s/(c**2*r**4*(r - r_s)))"
      ]
     },
     "metadata": {},
     "output_type": "display_data"
    },
    {
     "data": {
      "text/latex": [
       "$\\displaystyle R^{\\theta r r \\theta} = \\frac{0.5 r_{s} \\left(r - r_{s}\\right)}{r^{6}}$"
      ],
      "text/plain": [
       "Eq(R^theta^r^r^theta, 0.5*r_s*(r - r_s)/r**6)"
      ]
     },
     "metadata": {},
     "output_type": "display_data"
    },
    {
     "data": {
      "text/latex": [
       "$\\displaystyle R^{\\theta r \\theta r} = \\frac{0.5 r_{s} \\left(- r + r_{s}\\right)}{r^{6}}$"
      ],
      "text/plain": [
       "Eq(R^theta^r^theta^r, 0.5*r_s*(-r + r_s)/r**6)"
      ]
     },
     "metadata": {},
     "output_type": "display_data"
    },
    {
     "data": {
      "text/latex": [
       "$\\displaystyle R^{\\theta \\phi \\theta \\phi} = \\frac{1.0 r_{s}}{r^{7} \\sin^{2}{\\left(\\theta \\right)}}$"
      ],
      "text/plain": [
       "Eq(R^theta^phi^theta^phi, 1.0*r_s/(r**7*sin(theta)**2))"
      ]
     },
     "metadata": {},
     "output_type": "display_data"
    },
    {
     "data": {
      "text/latex": [
       "$\\displaystyle R^{\\theta \\phi \\phi \\theta} = - \\frac{1.0 r_{s}}{r^{7} \\sin^{2}{\\left(\\theta \\right)}}$"
      ],
      "text/plain": [
       "Eq(R^theta^phi^phi^theta, -1.0*r_s/(r**7*sin(theta)**2))"
      ]
     },
     "metadata": {},
     "output_type": "display_data"
    },
    {
     "data": {
      "text/latex": [
       "$\\displaystyle R^{\\phi t t \\phi} = - \\frac{0.5 r_{s}}{c^{2} r^{4} \\left(r - r_{s}\\right) \\sin^{2}{\\left(\\theta \\right)}}$"
      ],
      "text/plain": [
       "Eq(R^phi^t^t^phi, -0.5*r_s/(c**2*r**4*(r - r_s)*sin(theta)**2))"
      ]
     },
     "metadata": {},
     "output_type": "display_data"
    },
    {
     "data": {
      "text/latex": [
       "$\\displaystyle R^{\\phi t \\phi t} = \\frac{0.5 r_{s}}{c^{2} r^{4} \\left(r - r_{s}\\right) \\sin^{2}{\\left(\\theta \\right)}}$"
      ],
      "text/plain": [
       "Eq(R^phi^t^phi^t, 0.5*r_s/(c**2*r**4*(r - r_s)*sin(theta)**2))"
      ]
     },
     "metadata": {},
     "output_type": "display_data"
    },
    {
     "data": {
      "text/latex": [
       "$\\displaystyle R^{\\phi r r \\phi} = \\frac{0.5 r_{s} \\left(r - r_{s}\\right)}{r^{6} \\sin^{2}{\\left(\\theta \\right)}}$"
      ],
      "text/plain": [
       "Eq(R^phi^r^r^phi, 0.5*r_s*(r - r_s)/(r**6*sin(theta)**2))"
      ]
     },
     "metadata": {},
     "output_type": "display_data"
    },
    {
     "data": {
      "text/latex": [
       "$\\displaystyle R^{\\phi r \\phi r} = \\frac{0.5 r_{s} \\left(- r + r_{s}\\right)}{r^{6} \\sin^{2}{\\left(\\theta \\right)}}$"
      ],
      "text/plain": [
       "Eq(R^phi^r^phi^r, 0.5*r_s*(-r + r_s)/(r**6*sin(theta)**2))"
      ]
     },
     "metadata": {},
     "output_type": "display_data"
    },
    {
     "data": {
      "text/latex": [
       "$\\displaystyle R^{\\phi \\theta \\theta \\phi} = - \\frac{1.0 r_{s}}{r^{7} \\sin^{2}{\\left(\\theta \\right)}}$"
      ],
      "text/plain": [
       "Eq(R^phi^theta^theta^phi, -1.0*r_s/(r**7*sin(theta)**2))"
      ]
     },
     "metadata": {},
     "output_type": "display_data"
    },
    {
     "data": {
      "text/latex": [
       "$\\displaystyle R^{\\phi \\theta \\phi \\theta} = \\frac{1.0 r_{s}}{r^{7} \\sin^{2}{\\left(\\theta \\right)}}$"
      ],
      "text/plain": [
       "Eq(R^phi^theta^phi^theta, 1.0*r_s/(r**7*sin(theta)**2))"
      ]
     },
     "metadata": {},
     "output_type": "display_data"
    },
    {
     "name": "stdout",
     "output_type": "stream",
     "text": [
      "CPU times: total: 562 ms\n",
      "Wall time: 1.04 s\n"
     ]
    }
   ],
   "source": [
    "%%time\n",
    "#Componentes Rienman totalmente contravariantes\n",
    "riem_cont = smp.MutableDenseNDimArray([[[[0 for i in range(n)] for i in range(n)] for i in range(n)]for i in range(n)])\n",
    "for a in range(n):\n",
    "    for b in range(n):\n",
    "        for c in range(n):\n",
    "            for d in range(n):\n",
    "                suma=0\n",
    "                for bb in range(n):\n",
    "                    for cc in range(n):\n",
    "                        for dd in range(n):\n",
    "                            suma+=g_inv[b,bb]*g_inv[c,cc]*g_inv[d,dd]*riem[a,bb,cc,dd]\n",
    "                riem_cont[a,b,c,d]=smp.simplify(suma)\n",
    "                if riem_cont[a,b,c,d] != 0:\n",
    "                    R = smp.Symbol(fr'R^{coord[a]}^{coord[b]}^{coord[c]}^{coord[d]}')\n",
    "                    display(smp.Eq(R,riem_cont[a,b,c,d],evaluate=False))"
   ]
  },
  {
   "cell_type": "code",
   "execution_count": 6,
   "id": "be71cc98-0b78-44a3-8773-bb9586ccc181",
   "metadata": {
    "colab": {
     "base_uri": "https://localhost:8080/",
     "height": 894
    },
    "executionInfo": {
     "elapsed": 3422,
     "status": "ok",
     "timestamp": 1726681897182,
     "user": {
      "displayName": "Albert Newton",
      "userId": "03012217579256200743"
     },
     "user_tz": 360
    },
    "id": "be71cc98-0b78-44a3-8773-bb9586ccc181",
    "outputId": "cc655676-a9f7-42f7-ca69-f75f4dc67c05",
    "scrolled": true
   },
   "outputs": [
    {
     "data": {
      "text/latex": [
       "$\\displaystyle R_{t r t r} = - \\frac{1.0 c^{2} r_{s}}{r^{3}}$"
      ],
      "text/plain": [
       "Eq(R_t_r_t_r, -1.0*c**2*r_s/r**3)"
      ]
     },
     "metadata": {},
     "output_type": "display_data"
    },
    {
     "data": {
      "text/latex": [
       "$\\displaystyle R_{t r r t} = \\frac{1.0 c^{2} r_{s}}{r^{3}}$"
      ],
      "text/plain": [
       "Eq(R_t_r_r_t, 1.0*c**2*r_s/r**3)"
      ]
     },
     "metadata": {},
     "output_type": "display_data"
    },
    {
     "data": {
      "text/latex": [
       "$\\displaystyle R_{t \\theta t \\theta} = \\frac{0.5 c^{2} r_{s} \\left(r - r_{s}\\right)}{r^{2}}$"
      ],
      "text/plain": [
       "Eq(R_t_theta_t_theta, 0.5*c**2*r_s*(r - r_s)/r**2)"
      ]
     },
     "metadata": {},
     "output_type": "display_data"
    },
    {
     "data": {
      "text/latex": [
       "$\\displaystyle R_{t \\theta \\theta t} = \\frac{0.5 c^{2} r_{s} \\left(- r + r_{s}\\right)}{r^{2}}$"
      ],
      "text/plain": [
       "Eq(R_t_theta_theta_t, 0.5*c**2*r_s*(-r + r_s)/r**2)"
      ]
     },
     "metadata": {},
     "output_type": "display_data"
    },
    {
     "data": {
      "text/latex": [
       "$\\displaystyle R_{t \\phi t \\phi} = \\frac{0.5 c^{2} r_{s} \\left(r - r_{s}\\right) \\sin^{2}{\\left(\\theta \\right)}}{r^{2}}$"
      ],
      "text/plain": [
       "Eq(R_t_phi_t_phi, 0.5*c**2*r_s*(r - r_s)*sin(theta)**2/r**2)"
      ]
     },
     "metadata": {},
     "output_type": "display_data"
    },
    {
     "data": {
      "text/latex": [
       "$\\displaystyle R_{t \\phi \\phi t} = \\frac{0.5 c^{2} r_{s} \\left(- r + r_{s}\\right) \\sin^{2}{\\left(\\theta \\right)}}{r^{2}}$"
      ],
      "text/plain": [
       "Eq(R_t_phi_phi_t, 0.5*c**2*r_s*(-r + r_s)*sin(theta)**2/r**2)"
      ]
     },
     "metadata": {},
     "output_type": "display_data"
    },
    {
     "data": {
      "text/latex": [
       "$\\displaystyle R_{r t t r} = \\frac{1.0 c^{2} r_{s}}{r^{3}}$"
      ],
      "text/plain": [
       "Eq(R_r_t_t_r, 1.0*c**2*r_s/r**3)"
      ]
     },
     "metadata": {},
     "output_type": "display_data"
    },
    {
     "data": {
      "text/latex": [
       "$\\displaystyle R_{r t r t} = - \\frac{1.0 c^{2} r_{s}}{r^{3}}$"
      ],
      "text/plain": [
       "Eq(R_r_t_r_t, -1.0*c**2*r_s/r**3)"
      ]
     },
     "metadata": {},
     "output_type": "display_data"
    },
    {
     "data": {
      "text/latex": [
       "$\\displaystyle R_{r \\theta r \\theta} = - \\frac{0.5 r_{s}}{r - r_{s}}$"
      ],
      "text/plain": [
       "Eq(R_r_theta_r_theta, -0.5*r_s/(r - r_s))"
      ]
     },
     "metadata": {},
     "output_type": "display_data"
    },
    {
     "data": {
      "text/latex": [
       "$\\displaystyle R_{r \\theta \\theta r} = \\frac{0.5 r_{s}}{r - r_{s}}$"
      ],
      "text/plain": [
       "Eq(R_r_theta_theta_r, 0.5*r_s/(r - r_s))"
      ]
     },
     "metadata": {},
     "output_type": "display_data"
    },
    {
     "data": {
      "text/latex": [
       "$\\displaystyle R_{r \\phi r \\phi} = - \\frac{0.5 r_{s} \\sin^{2}{\\left(\\theta \\right)}}{r - r_{s}}$"
      ],
      "text/plain": [
       "Eq(R_r_phi_r_phi, -0.5*r_s*sin(theta)**2/(r - r_s))"
      ]
     },
     "metadata": {},
     "output_type": "display_data"
    },
    {
     "data": {
      "text/latex": [
       "$\\displaystyle R_{r \\phi \\phi r} = \\frac{0.5 r_{s} \\sin^{2}{\\left(\\theta \\right)}}{r - r_{s}}$"
      ],
      "text/plain": [
       "Eq(R_r_phi_phi_r, 0.5*r_s*sin(theta)**2/(r - r_s))"
      ]
     },
     "metadata": {},
     "output_type": "display_data"
    },
    {
     "data": {
      "text/latex": [
       "$\\displaystyle R_{\\theta t t \\theta} = \\frac{0.5 c^{2} r_{s} \\left(- r + r_{s}\\right)}{r^{2}}$"
      ],
      "text/plain": [
       "Eq(R_theta_t_t_theta, 0.5*c**2*r_s*(-r + r_s)/r**2)"
      ]
     },
     "metadata": {},
     "output_type": "display_data"
    },
    {
     "data": {
      "text/latex": [
       "$\\displaystyle R_{\\theta t \\theta t} = \\frac{0.5 c^{2} r_{s} \\left(r - r_{s}\\right)}{r^{2}}$"
      ],
      "text/plain": [
       "Eq(R_theta_t_theta_t, 0.5*c**2*r_s*(r - r_s)/r**2)"
      ]
     },
     "metadata": {},
     "output_type": "display_data"
    },
    {
     "data": {
      "text/latex": [
       "$\\displaystyle R_{\\theta r r \\theta} = \\frac{0.5 r_{s}}{r - r_{s}}$"
      ],
      "text/plain": [
       "Eq(R_theta_r_r_theta, 0.5*r_s/(r - r_s))"
      ]
     },
     "metadata": {},
     "output_type": "display_data"
    },
    {
     "data": {
      "text/latex": [
       "$\\displaystyle R_{\\theta r \\theta r} = - \\frac{0.5 r_{s}}{r - r_{s}}$"
      ],
      "text/plain": [
       "Eq(R_theta_r_theta_r, -0.5*r_s/(r - r_s))"
      ]
     },
     "metadata": {},
     "output_type": "display_data"
    },
    {
     "data": {
      "text/latex": [
       "$\\displaystyle R_{\\theta \\phi \\theta \\phi} = 1.0 r r_{s} \\sin^{2}{\\left(\\theta \\right)}$"
      ],
      "text/plain": [
       "Eq(R_theta_phi_theta_phi, 1.0*r*r_s*sin(theta)**2)"
      ]
     },
     "metadata": {},
     "output_type": "display_data"
    },
    {
     "data": {
      "text/latex": [
       "$\\displaystyle R_{\\theta \\phi \\phi \\theta} = - 1.0 r r_{s} \\sin^{2}{\\left(\\theta \\right)}$"
      ],
      "text/plain": [
       "Eq(R_theta_phi_phi_theta, -1.0*r*r_s*sin(theta)**2)"
      ]
     },
     "metadata": {},
     "output_type": "display_data"
    },
    {
     "data": {
      "text/latex": [
       "$\\displaystyle R_{\\phi t t \\phi} = \\frac{0.5 c^{2} r_{s} \\left(- r + r_{s}\\right) \\sin^{2}{\\left(\\theta \\right)}}{r^{2}}$"
      ],
      "text/plain": [
       "Eq(R_phi_t_t_phi, 0.5*c**2*r_s*(-r + r_s)*sin(theta)**2/r**2)"
      ]
     },
     "metadata": {},
     "output_type": "display_data"
    },
    {
     "data": {
      "text/latex": [
       "$\\displaystyle R_{\\phi t \\phi t} = \\frac{0.5 c^{2} r_{s} \\left(r - r_{s}\\right) \\sin^{2}{\\left(\\theta \\right)}}{r^{2}}$"
      ],
      "text/plain": [
       "Eq(R_phi_t_phi_t, 0.5*c**2*r_s*(r - r_s)*sin(theta)**2/r**2)"
      ]
     },
     "metadata": {},
     "output_type": "display_data"
    },
    {
     "data": {
      "text/latex": [
       "$\\displaystyle R_{\\phi r r \\phi} = \\frac{0.5 r_{s} \\sin^{2}{\\left(\\theta \\right)}}{r - r_{s}}$"
      ],
      "text/plain": [
       "Eq(R_phi_r_r_phi, 0.5*r_s*sin(theta)**2/(r - r_s))"
      ]
     },
     "metadata": {},
     "output_type": "display_data"
    },
    {
     "data": {
      "text/latex": [
       "$\\displaystyle R_{\\phi r \\phi r} = - \\frac{0.5 r_{s} \\sin^{2}{\\left(\\theta \\right)}}{r - r_{s}}$"
      ],
      "text/plain": [
       "Eq(R_phi_r_phi_r, -0.5*r_s*sin(theta)**2/(r - r_s))"
      ]
     },
     "metadata": {},
     "output_type": "display_data"
    },
    {
     "data": {
      "text/latex": [
       "$\\displaystyle R_{\\phi \\theta \\theta \\phi} = - 1.0 r r_{s} \\sin^{2}{\\left(\\theta \\right)}$"
      ],
      "text/plain": [
       "Eq(R_phi_theta_theta_phi, -1.0*r*r_s*sin(theta)**2)"
      ]
     },
     "metadata": {},
     "output_type": "display_data"
    },
    {
     "data": {
      "text/latex": [
       "$\\displaystyle R_{\\phi \\theta \\phi \\theta} = 1.0 r r_{s} \\sin^{2}{\\left(\\theta \\right)}$"
      ],
      "text/plain": [
       "Eq(R_phi_theta_phi_theta, 1.0*r*r_s*sin(theta)**2)"
      ]
     },
     "metadata": {},
     "output_type": "display_data"
    },
    {
     "name": "stdout",
     "output_type": "stream",
     "text": [
      "CPU times: total: 344 ms\n",
      "Wall time: 683 ms\n"
     ]
    }
   ],
   "source": [
    "%%time\n",
    "#Componentes Rienman totalmente covariantes\n",
    "riem_cov = smp.MutableDenseNDimArray([[[[0 for i in range(n)] for i in range(n)] for i in range(n)]for i in range(n)])\n",
    "for a in range(n):\n",
    "    for b in range(n):\n",
    "        for c in range(n):\n",
    "            for d in range(n):\n",
    "                suma=0\n",
    "                for aa in range(n):\n",
    "                    suma+=g[a,aa]*riem[aa,b,c,d]\n",
    "                riem_cov[a,b,c,d]=smp.simplify(suma)\n",
    "                if riem_cov[a,b,c,d] != 0:\n",
    "                    R = smp.Symbol(fr'R_{coord[a]}_{coord[b]}_{coord[c]}_{coord[d]}')\n",
    "                    display(smp.Eq(R,riem_cov[a,b,c,d],evaluate=False))"
   ]
  },
  {
   "cell_type": "code",
   "execution_count": 7,
   "id": "b15527c7-f4e8-40d7-a92a-17ab3b29ccd9",
   "metadata": {
    "colab": {
     "base_uri": "https://localhost:8080/"
    },
    "executionInfo": {
     "elapsed": 70,
     "status": "ok",
     "timestamp": 1726681897183,
     "user": {
      "displayName": "Albert Newton",
      "userId": "03012217579256200743"
     },
     "user_tz": 360
    },
    "id": "b15527c7-f4e8-40d7-a92a-17ab3b29ccd9",
    "outputId": "e2e8082f-ee0c-42fa-9bf7-ce03327efe9d"
   },
   "outputs": [
    {
     "name": "stdout",
     "output_type": "stream",
     "text": [
      "CPU times: total: 0 ns\n",
      "Wall time: 0 ns\n"
     ]
    }
   ],
   "source": [
    "%%time\n",
    "#Tensor de Ricci\n",
    "for a in range(n):\n",
    "    for b in range(n):\n",
    "        ricci[a,b]=Ricci(a,b)\n",
    "        if ricci[a,b]!=0:\n",
    "            Ri = smp.Symbol(fr'R_{coord[a]}_{coord[b]}')\n",
    "            display(smp.Eq(Ri,ricci[a,b],evaluate=False))"
   ]
  },
  {
   "cell_type": "code",
   "execution_count": 8,
   "id": "1c758ba0-5f0e-495f-a53b-62a5a8a048de",
   "metadata": {
    "colab": {
     "base_uri": "https://localhost:8080/"
    },
    "executionInfo": {
     "elapsed": 72,
     "status": "ok",
     "timestamp": 1726681897188,
     "user": {
      "displayName": "Albert Newton",
      "userId": "03012217579256200743"
     },
     "user_tz": 360
    },
    "id": "1c758ba0-5f0e-495f-a53b-62a5a8a048de",
    "outputId": "dc50abb2-b8bd-4f4c-f771-728ff584b24a"
   },
   "outputs": [
    {
     "name": "stdout",
     "output_type": "stream",
     "text": [
      "CPU times: total: 0 ns\n",
      "Wall time: 6 ms\n"
     ]
    }
   ],
   "source": [
    "%%time\n",
    "#tensor de Ricci contravariante\n",
    "ricci_cont= smp.Matrix([[0 for i in range(n)] for i in range(n)])\n",
    "for a in range(n):\n",
    "    for b in range(n):\n",
    "        suma=0\n",
    "        for aa in range(n):\n",
    "            for bb in range(n):\n",
    "                suma+=g_inv[a,aa]*ricci[aa,bb]*g_inv[bb,b]\n",
    "        ricci_cont[a,b] = smp.simplify(suma)\n",
    "        if ricci_cont[a,b]!=0:\n",
    "            Ri = smp.Symbol(fr'R^{coord[a]}^{coord[b]}')\n",
    "            display(smp.Eq(Ri,ricci_cont[a,b],evaluate=False))"
   ]
  },
  {
   "cell_type": "code",
   "execution_count": 9,
   "id": "bf4924f4-c509-4930-a365-0c69371c91e8",
   "metadata": {
    "colab": {
     "base_uri": "https://localhost:8080/",
     "height": 74
    },
    "executionInfo": {
     "elapsed": 71,
     "status": "ok",
     "timestamp": 1726681897189,
     "user": {
      "displayName": "Albert Newton",
      "userId": "03012217579256200743"
     },
     "user_tz": 360
    },
    "id": "bf4924f4-c509-4930-a365-0c69371c91e8",
    "outputId": "2eeb7519-2b01-46a3-ca3f-fa3364469989"
   },
   "outputs": [
    {
     "data": {
      "text/latex": [
       "$\\displaystyle R = 0$"
      ],
      "text/plain": [
       "Eq(R, 0)"
      ]
     },
     "metadata": {},
     "output_type": "display_data"
    },
    {
     "name": "stdout",
     "output_type": "stream",
     "text": [
      "CPU times: total: 0 ns\n",
      "Wall time: 2 ms\n"
     ]
    }
   ],
   "source": [
    "%%time\n",
    "#Escalar de Ricci\n",
    "er=0\n",
    "for a in range(n):\n",
    "    for b in range(n):\n",
    "        er+=g_inv[a,b]*ricci[a,b]\n",
    "er = smp.simplify(er)\n",
    "ER=smp.symbols('R')\n",
    "display(smp.Eq(ER,er,evaluate=False))"
   ]
  },
  {
   "cell_type": "code",
   "execution_count": 10,
   "id": "a2e3db86-5025-4be3-bd71-9aa34830fce3",
   "metadata": {
    "colab": {
     "base_uri": "https://localhost:8080/",
     "height": 89
    },
    "executionInfo": {
     "elapsed": 461,
     "status": "ok",
     "timestamp": 1726681897582,
     "user": {
      "displayName": "Albert Newton",
      "userId": "03012217579256200743"
     },
     "user_tz": 360
    },
    "id": "a2e3db86-5025-4be3-bd71-9aa34830fce3",
    "outputId": "f1d56c09-96bd-42b5-9f74-32e37b0e38c5"
   },
   "outputs": [
    {
     "name": "stdout",
     "output_type": "stream",
     "text": [
      "CPU times: total: 0 ns\n",
      "Wall time: 0 ns\n"
     ]
    },
    {
     "data": {
      "text/latex": [
       "$\\displaystyle K = \\frac{12.0 r_{s}^{2}}{r^{6}}$"
      ],
      "text/plain": [
       "Eq(K, 12.0*r_s**2/r**6)"
      ]
     },
     "metadata": {},
     "output_type": "display_data"
    }
   ],
   "source": [
    "%time\n",
    "#Escalar de Kretschmann\n",
    "ek=0\n",
    "for a in range(n):\n",
    "    for b in range(n):\n",
    "        for c in range(n):\n",
    "            for d in range(n):\n",
    "                ek+=(riem_cov[a,b,c,d])*(riem_cont[a,b,c,d])\n",
    "ek = smp.simplify(ek)\n",
    "K=smp.symbols('K')\n",
    "display(smp.Eq(K,ek,evaluate=False))"
   ]
  },
  {
   "cell_type": "code",
   "execution_count": 11,
   "id": "532f0851-59de-4785-b0b5-5e6439b50223",
   "metadata": {
    "colab": {
     "base_uri": "https://localhost:8080/"
    },
    "executionInfo": {
     "elapsed": 25,
     "status": "ok",
     "timestamp": 1726681897586,
     "user": {
      "displayName": "Albert Newton",
      "userId": "03012217579256200743"
     },
     "user_tz": 360
    },
    "id": "532f0851-59de-4785-b0b5-5e6439b50223",
    "outputId": "276026d8-9aad-48dd-ae69-0bf5f4f68cc2"
   },
   "outputs": [
    {
     "name": "stdout",
     "output_type": "stream",
     "text": [
      "CPU times: total: 0 ns\n",
      "Wall time: 0 ns\n"
     ]
    }
   ],
   "source": [
    "%%time\n",
    "#Tensor de Einstein\n",
    "for a in range(n):\n",
    "    for b in range(n):\n",
    "        einstein[a,b]=Einstein(a,b)\n",
    "        if einstein[a,b]!=0:\n",
    "            G = smp.Symbol(fr'G_{coord[a]}_{coord[b]}')\n",
    "            display(smp.Eq(G,einstein[a,b], evaluate=False ))\n"
   ]
  },
  {
   "cell_type": "code",
   "execution_count": 12,
   "id": "ca6b9bb2-9ab7-4b96-af39-ed5967d9ee51",
   "metadata": {
    "colab": {
     "base_uri": "https://localhost:8080/",
     "height": 317
    },
    "executionInfo": {
     "elapsed": 1543,
     "status": "ok",
     "timestamp": 1726681899109,
     "user": {
      "displayName": "Albert Newton",
      "userId": "03012217579256200743"
     },
     "user_tz": 360
    },
    "id": "ca6b9bb2-9ab7-4b96-af39-ed5967d9ee51",
    "outputId": "0e91e252-a2d2-4964-c1ba-27be061bb825"
   },
   "outputs": [
    {
     "data": {
      "text/latex": [
       "$\\displaystyle t$"
      ],
      "text/plain": [
       "t"
      ]
     },
     "metadata": {},
     "output_type": "display_data"
    },
    {
     "data": {
      "text/latex": [
       "$\\displaystyle \\frac{d^{2}}{d \\lambda^{2}} t + \\frac{1.0 r_{s} \\frac{d}{d \\lambda} r \\frac{d}{d \\lambda} t}{r \\left(r - r_{s}\\right)} = 0$"
      ],
      "text/plain": [
       "Eq(Derivative(t, (lambda, 2)) + 1.0*r_s*Derivative(r, lambda)*Derivative(t, lambda)/(r*(r - r_s)), 0)"
      ]
     },
     "metadata": {},
     "output_type": "display_data"
    },
    {
     "data": {
      "text/latex": [
       "$\\displaystyle r$"
      ],
      "text/plain": [
       "r"
      ]
     },
     "metadata": {},
     "output_type": "display_data"
    },
    {
     "data": {
      "text/latex": [
       "$\\displaystyle \\frac{0.5 c^{2} r_{s} \\left(r - r_{s}\\right) \\left(\\frac{d}{d \\lambda} t\\right)^{2}}{r^{3}} + 1.0 \\left(- r + r_{s}\\right) \\sin^{2}{\\left(\\theta \\right)} \\left(\\frac{d}{d \\lambda} \\phi\\right)^{2} + \\left(- 1.0 r + 1.0 r_{s}\\right) \\left(\\frac{d}{d \\lambda} \\theta\\right)^{2} + \\frac{d^{2}}{d \\lambda^{2}} r - \\frac{0.5 r_{s} \\left(\\frac{d}{d \\lambda} r\\right)^{2}}{r \\left(r - r_{s}\\right)} = 0$"
      ],
      "text/plain": [
       "Eq(0.5*c**2*r_s*(r - r_s)*Derivative(t, lambda)**2/r**3 + 1.0*(-r + r_s)*sin(theta)**2*Derivative(phi, lambda)**2 + (-1.0*r + 1.0*r_s)*Derivative(theta, lambda)**2 + Derivative(r, (lambda, 2)) - 0.5*r_s*Derivative(r, lambda)**2/(r*(r - r_s)), 0)"
      ]
     },
     "metadata": {},
     "output_type": "display_data"
    },
    {
     "data": {
      "text/latex": [
       "$\\displaystyle \\theta$"
      ],
      "text/plain": [
       "theta"
      ]
     },
     "metadata": {},
     "output_type": "display_data"
    },
    {
     "data": {
      "text/latex": [
       "$\\displaystyle - 0.5 \\sin{\\left(2 \\theta \\right)} \\left(\\frac{d}{d \\lambda} \\phi\\right)^{2} + \\frac{d^{2}}{d \\lambda^{2}} \\theta + \\frac{2.0 \\frac{d}{d \\lambda} r \\frac{d}{d \\lambda} \\theta}{r} = 0$"
      ],
      "text/plain": [
       "Eq(-0.5*sin(2*theta)*Derivative(phi, lambda)**2 + Derivative(theta, (lambda, 2)) + 2.0*Derivative(r, lambda)*Derivative(theta, lambda)/r, 0)"
      ]
     },
     "metadata": {},
     "output_type": "display_data"
    },
    {
     "data": {
      "text/latex": [
       "$\\displaystyle \\phi$"
      ],
      "text/plain": [
       "phi"
      ]
     },
     "metadata": {},
     "output_type": "display_data"
    },
    {
     "data": {
      "text/latex": [
       "$\\displaystyle \\frac{d^{2}}{d \\lambda^{2}} \\phi + \\frac{2.0 \\frac{d}{d \\lambda} \\phi \\frac{d}{d \\lambda} \\theta}{\\tan{\\left(\\theta \\right)}} + \\frac{2.0 \\frac{d}{d \\lambda} \\phi \\frac{d}{d \\lambda} r}{r} = 0$"
      ],
      "text/plain": [
       "Eq(Derivative(phi, (lambda, 2)) + 2.0*Derivative(phi, lambda)*Derivative(theta, lambda)/tan(theta) + 2.0*Derivative(phi, lambda)*Derivative(r, lambda)/r, 0)"
      ]
     },
     "metadata": {},
     "output_type": "display_data"
    },
    {
     "name": "stdout",
     "output_type": "stream",
     "text": [
      "CPU times: total: 141 ms\n",
      "Wall time: 277 ms\n"
     ]
    }
   ],
   "source": [
    "%%time\n",
    "#Geodésicas\n",
    "L=smp.symbols('lambda')\n",
    "for a in range(n):\n",
    "    w1=0\n",
    "    w2=0\n",
    "    w1=smp.diff(coord[a],L,L,evaluate=False)\n",
    "    for b in range(n):\n",
    "        for c in range(n):\n",
    "            w2+=smp.simplify(ch[a,c,b])*smp.diff(coord[c],L,evaluate=False)*smp.diff(coord[b],L,evaluate=False)\n",
    "    display(coord[a])\n",
    "    display(smp.Eq(w1+w2,0,evaluate=False))"
   ]
  }
 ],
 "metadata": {
  "colab": {
   "provenance": []
  },
  "kernelspec": {
   "display_name": "Python 3 (ipykernel)",
   "language": "python",
   "name": "python3"
  },
  "language_info": {
   "codemirror_mode": {
    "name": "ipython",
    "version": 3
   },
   "file_extension": ".py",
   "mimetype": "text/x-python",
   "name": "python",
   "nbconvert_exporter": "python",
   "pygments_lexer": "ipython3",
   "version": "3.10.1"
  }
 },
 "nbformat": 4,
 "nbformat_minor": 5
}
